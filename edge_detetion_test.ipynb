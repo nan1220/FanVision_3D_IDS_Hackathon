{
 "cells": [
  {
   "cell_type": "code",
   "execution_count": null,
   "id": "76464084",
   "metadata": {},
   "outputs": [
    {
     "name": "stdout",
     "output_type": "stream",
     "text": [
      "Focal Length: 618.1258741258741\n",
      "Fehler: Bild 'input_image.png' konnte nicht geladen werden.\n"
     ]
    },
    {
     "name": "stderr",
     "output_type": "stream",
     "text": [
      "[ WARN:0@5854.388] global loadsave.cpp:275 findDecoder imread_('input_image.png'): can't open/read file: check file path/integrity\n"
     ]
    },
    {
     "ename": "error",
     "evalue": "OpenCV(4.12.0) /Users/xperience/GHA-Actions-OpenCV/_work/opencv-python/opencv-python/opencv/modules/imgproc/src/color.cpp:199: error: (-215:Assertion failed) !_src.empty() in function 'cvtColor'\n",
     "output_type": "error",
     "traceback": [
      "\u001b[0;31m---------------------------------------------------------------------------\u001b[0m",
      "\u001b[0;31merror\u001b[0m                                     Traceback (most recent call last)",
      "Cell \u001b[0;32mIn[3], line 50\u001b[0m\n\u001b[1;32m     47\u001b[0m     \u001b[38;5;28mprint\u001b[39m(\u001b[38;5;124m\"\u001b[39m\u001b[38;5;124mFehler: Bild \u001b[39m\u001b[38;5;124m'\u001b[39m\u001b[38;5;124minput_image.png\u001b[39m\u001b[38;5;124m'\u001b[39m\u001b[38;5;124m konnte nicht geladen werden.\u001b[39m\u001b[38;5;124m\"\u001b[39m)\n\u001b[1;32m     48\u001b[0m     exit(\u001b[38;5;241m1\u001b[39m)\n\u001b[0;32m---> 50\u001b[0m face_width_in_frame \u001b[38;5;241m=\u001b[39m \u001b[43mface_data\u001b[49m\u001b[43m(\u001b[49m\u001b[43minput_image\u001b[49m\u001b[43m)\u001b[49m\n\u001b[1;32m     51\u001b[0m \u001b[38;5;28;01mif\u001b[39;00m face_width_in_frame \u001b[38;5;241m!=\u001b[39m \u001b[38;5;241m0\u001b[39m:\n\u001b[1;32m     52\u001b[0m     Distance \u001b[38;5;241m=\u001b[39m Distance_finder(Focal_length_found, KNOWN_WIDTH, face_width_in_frame)\n",
      "Cell \u001b[0;32mIn[3], line 28\u001b[0m, in \u001b[0;36mface_data\u001b[0;34m(image)\u001b[0m\n\u001b[1;32m     26\u001b[0m \u001b[38;5;28;01mdef\u001b[39;00m \u001b[38;5;21mface_data\u001b[39m(image):\n\u001b[1;32m     27\u001b[0m     face_width \u001b[38;5;241m=\u001b[39m \u001b[38;5;241m0\u001b[39m\n\u001b[0;32m---> 28\u001b[0m     gray_image \u001b[38;5;241m=\u001b[39m \u001b[43mcv2\u001b[49m\u001b[38;5;241;43m.\u001b[39;49m\u001b[43mcvtColor\u001b[49m\u001b[43m(\u001b[49m\u001b[43mimage\u001b[49m\u001b[43m,\u001b[49m\u001b[43m \u001b[49m\u001b[43mcv2\u001b[49m\u001b[38;5;241;43m.\u001b[39;49m\u001b[43mCOLOR_BGR2GRAY\u001b[49m\u001b[43m)\u001b[49m\n\u001b[1;32m     29\u001b[0m     faces \u001b[38;5;241m=\u001b[39m face_detector\u001b[38;5;241m.\u001b[39mdetectMultiScale(gray_image, \u001b[38;5;241m1.3\u001b[39m, \u001b[38;5;241m5\u001b[39m)\n\u001b[1;32m     30\u001b[0m     \u001b[38;5;28;01mfor\u001b[39;00m (x, y, w, h) \u001b[38;5;129;01min\u001b[39;00m faces:\n",
      "\u001b[0;31merror\u001b[0m: OpenCV(4.12.0) /Users/xperience/GHA-Actions-OpenCV/_work/opencv-python/opencv-python/opencv/modules/imgproc/src/color.cpp:199: error: (-215:Assertion failed) !_src.empty() in function 'cvtColor'\n"
     ]
    },
    {
     "ename": "",
     "evalue": "",
     "output_type": "error",
     "traceback": [
      "\u001b[1;31mThe Kernel crashed while executing code in the current cell or a previous cell. \n",
      "\u001b[1;31mPlease review the code in the cell(s) to identify a possible cause of the failure. \n",
      "\u001b[1;31mClick <a href='https://aka.ms/vscodeJupyterKernelCrash'>here</a> for more info. \n",
      "\u001b[1;31mView Jupyter <a href='command:jupyter.viewOutput'>log</a> for further details."
     ]
    }
   ],
   "source": [
    "import cv2\n",
    "import numpy as np\n",
    "\n",
    "# Abstand von Kamera zu Objekt (Referenzbild) in cm\n",
    "KNOWN_DISTANCE = 76.2\n",
    "# Breite des Gesichts im echten Leben in cm\n",
    "KNOWN_WIDTH = 14.3\n",
    "\n",
    "# Farben\n",
    "GREEN = (0, 255, 0)\n",
    "RED = (0, 0, 255)\n",
    "BLACK = (0, 0, 0)\n",
    "\n",
    "# Schriftart\n",
    "fonts = cv2.FONT_HERSHEY_COMPLEX\n",
    "\n",
    "# Gesichtserkennung\n",
    "face_detector = cv2.CascadeClassifier(\"haarcascade_frontalface_default.xml\")\n",
    "\n",
    "def Focal_Length_Finder(measured_distance, real_width, width_in_rf_image):\n",
    "    return (width_in_rf_image * measured_distance) / real_width\n",
    "\n",
    "def Distance_finder(Focal_Length, real_face_width, face_width_in_frame):\n",
    "    return (real_face_width * Focal_Length) / face_width_in_frame\n",
    "\n",
    "def face_data(image):\n",
    "    face_width = 0\n",
    "    gray_image = cv2.cvtColor(image, cv2.COLOR_BGR2GRAY)\n",
    "    faces = face_detector.detectMultiScale(gray_image, 1.3, 5)\n",
    "    for (x, y, w, h) in faces:\n",
    "        cv2.rectangle(image, (x, y), (x+w, y+h), GREEN, 2)\n",
    "        face_width = w\n",
    "    return face_width\n",
    "\n",
    "# Referenzbild laden\n",
    "ref_image = cv2.imread(\"/Users/jiangnan/Study/FUN/projects_ongoing/FanVision_3D_IDS_Hackathon/test_pic.png\")\n",
    "ref_image_face_width = face_data(ref_image)\n",
    "\n",
    "# Brennweite berechnen\n",
    "Focal_length_found = Focal_Length_Finder(KNOWN_DISTANCE, KNOWN_WIDTH, ref_image_face_width)\n",
    "print(f\"Focal Length: {Focal_length_found}\")\n",
    "cv2.imshow(\"ref_image\", ref_image)\n",
    "\n",
    "# Bild für die Distanzmessung laden\n",
    "input_image = cv2.imread(\"input_image.png\")\n",
    "if input_image is None:\n",
    "    print(\"Fehler: Bild 'input_image.png' konnte nicht geladen werden.\")\n",
    "    exit(1)\n",
    "\n",
    "face_width_in_frame = face_data(input_image)\n",
    "if face_width_in_frame != 0:\n",
    "    Distance = Distance_finder(Focal_length_found, KNOWN_WIDTH, face_width_in_frame)\n",
    "    cv2.line(input_image, (30, 30), (230, 30), RED, 32)\n",
    "    cv2.line(input_image, (30, 30), (230, 30), BLACK, 28)\n",
    "    cv2.putText(input_image, f\"Distance: {round(Distance,2)} CM\", (30, 35), fonts, 0.6, GREEN, 2)\n",
    "else:\n",
    "    print(\"Kein Gesicht erkannt.\")\n",
    "\n",
    "cv2.imshow(\"Distance Estimation\", input_image)\n",
    "cv2.waitKey(0)\n",
    "cv2.destroyAllWindows()\n",
    "\n",
    "# Kamera starten\n",
    "cap = cv2.VideoCapture(0)\n",
    "while True:\n",
    "    ret, frame = cap.read()\n",
    "    if not ret:\n",
    "        break\n",
    "    face_width_in_frame = face_data(frame)\n",
    "    if face_width_in_frame != 0:\n",
    "        Distance = Distance_finder(Focal_length_found, KNOWN_WIDTH, face_width_in_frame)\n",
    "        cv2.line(frame, (30, 30), (230, 30), RED, 32)\n",
    "        cv2.line(frame, (30, 30), (230, 30), BLACK, 28)\n",
    "        cv2.putText(frame, f\"Distance: {round(Distance,2)} CM\", (30, 35), fonts, 0.6, GREEN, 2)\n",
    "    cv2.imshow(\"frame\", frame)\n",
    "    if cv2.waitKey(1) == ord(\"q\"):\n",
    "        break\n",
    "cap.release()\n",
    "cv2.destroyAllWindows()"
   ]
  }
 ],
 "metadata": {
  "kernelspec": {
   "display_name": "Python 3",
   "language": "python",
   "name": "python3"
  },
  "language_info": {
   "codemirror_mode": {
    "name": "ipython",
    "version": 3
   },
   "file_extension": ".py",
   "mimetype": "text/x-python",
   "name": "python",
   "nbconvert_exporter": "python",
   "pygments_lexer": "ipython3",
   "version": "3.13.1"
  }
 },
 "nbformat": 4,
 "nbformat_minor": 5
}
