{
 "cells": [
  {
   "cell_type": "code",
   "execution_count": null,
   "id": "d2a3d3cc",
   "metadata": {},
   "outputs": [
    {
     "name": "stdout",
     "output_type": "stream",
     "text": [
      "2.2.1\n"
     ]
    }
   ],
   "source": []
  },
  {
   "cell_type": "code",
   "execution_count": 9,
   "id": "b6313131",
   "metadata": {},
   "outputs": [
    {
     "name": "stdout",
     "output_type": "stream",
     "text": [
      "Running SLAM... (this can take a while)\n"
     ]
    },
    {
     "ename": "NameError",
     "evalue": "name 'config' is not defined",
     "output_type": "error",
     "traceback": [
      "\u001b[0;31m---------------------------------------------------------------------------\u001b[0m",
      "\u001b[0;31mNameError\u001b[0m                                 Traceback (most recent call last)",
      "Cell \u001b[0;32mIn[9], line 85\u001b[0m\n\u001b[1;32m     81\u001b[0m     \u001b[38;5;28mprint\u001b[39m(\u001b[38;5;124mf\u001b[39m\u001b[38;5;124m\"\u001b[39m\u001b[38;5;124m  Height (z): \u001b[39m\u001b[38;5;132;01m{\u001b[39;00mdims_m[\u001b[38;5;241m2\u001b[39m]\u001b[38;5;132;01m:\u001b[39;00m\u001b[38;5;124m.2f\u001b[39m\u001b[38;5;132;01m}\u001b[39;00m\u001b[38;5;124m m\u001b[39m\u001b[38;5;124m\"\u001b[39m)\n\u001b[1;32m     84\u001b[0m \u001b[38;5;28;01mif\u001b[39;00m \u001b[38;5;18m__name__\u001b[39m \u001b[38;5;241m==\u001b[39m \u001b[38;5;124m\"\u001b[39m\u001b[38;5;124m__main__\u001b[39m\u001b[38;5;124m\"\u001b[39m:\n\u001b[0;32m---> 85\u001b[0m     \u001b[43mmain\u001b[49m\u001b[43m(\u001b[49m\u001b[43m)\u001b[49m\n",
      "Cell \u001b[0;32mIn[9], line 67\u001b[0m, in \u001b[0;36mmain\u001b[0;34m()\u001b[0m\n\u001b[1;32m     64\u001b[0m calib_path \u001b[38;5;241m=\u001b[39m \u001b[38;5;124m\"\u001b[39m\u001b[38;5;124mcamera.yaml\u001b[39m\u001b[38;5;124m\"\u001b[39m  \u001b[38;5;66;03m# your calibration file\u001b[39;00m\n\u001b[1;32m     66\u001b[0m \u001b[38;5;28mprint\u001b[39m(\u001b[38;5;124m\"\u001b[39m\u001b[38;5;124mRunning SLAM... (this can take a while)\u001b[39m\u001b[38;5;124m\"\u001b[39m)\n\u001b[0;32m---> 67\u001b[0m points \u001b[38;5;241m=\u001b[39m \u001b[43mrun_slam\u001b[49m\u001b[43m(\u001b[49m\u001b[43mvideo_path\u001b[49m\u001b[43m,\u001b[49m\u001b[43m \u001b[49m\u001b[43mcalib_path\u001b[49m\u001b[43m)\u001b[49m\n\u001b[1;32m     69\u001b[0m \u001b[38;5;28mprint\u001b[39m(\u001b[38;5;124mf\u001b[39m\u001b[38;5;124m\"\u001b[39m\u001b[38;5;124mReconstructed \u001b[39m\u001b[38;5;132;01m{\u001b[39;00m\u001b[38;5;28mlen\u001b[39m(points)\u001b[38;5;132;01m}\u001b[39;00m\u001b[38;5;124m 3D points.\u001b[39m\u001b[38;5;124m\"\u001b[39m)\n\u001b[1;32m     70\u001b[0m dims, mins, maxs \u001b[38;5;241m=\u001b[39m compute_scene_size(points)\n",
      "Cell \u001b[0;32mIn[9], line 9\u001b[0m, in \u001b[0;36mrun_slam\u001b[0;34m(video_path, calib_path)\u001b[0m\n\u001b[1;32m      4\u001b[0m \u001b[38;5;28;01mdef\u001b[39;00m \u001b[38;5;21mrun_slam\u001b[39m(video_path: \u001b[38;5;28mstr\u001b[39m, calib_path: \u001b[38;5;28mstr\u001b[39m) \u001b[38;5;241m-\u001b[39m\u001b[38;5;241m>\u001b[39m np\u001b[38;5;241m.\u001b[39mndarray:\n\u001b[1;32m      5\u001b[0m \u001b[38;5;250m    \u001b[39m\u001b[38;5;124;03m\"\"\"\u001b[39;00m\n\u001b[1;32m      6\u001b[0m \u001b[38;5;124;03m    Run pySLAM on a video and return a 3D point cloud as a NumPy array.\u001b[39;00m\n\u001b[1;32m      7\u001b[0m \u001b[38;5;124;03m    (No visualization, no Open3D)\u001b[39;00m\n\u001b[1;32m      8\u001b[0m \u001b[38;5;124;03m    \"\"\"\u001b[39;00m\n\u001b[0;32m----> 9\u001b[0m     cfg \u001b[38;5;241m=\u001b[39m \u001b[43mconfig\u001b[49m\u001b[38;5;241m.\u001b[39mConfig(\u001b[38;5;124m\"\u001b[39m\u001b[38;5;124mconfig.yaml\u001b[39m\u001b[38;5;124m\"\u001b[39m)\n\u001b[1;32m     11\u001b[0m     \u001b[38;5;66;03m# --- configure dataset ---\u001b[39;00m\n\u001b[1;32m     12\u001b[0m     cfg[\u001b[38;5;124m\"\u001b[39m\u001b[38;5;124mDATASET\u001b[39m\u001b[38;5;124m\"\u001b[39m][\u001b[38;5;124m\"\u001b[39m\u001b[38;5;124mtype\u001b[39m\u001b[38;5;124m\"\u001b[39m] \u001b[38;5;241m=\u001b[39m \u001b[38;5;124m\"\u001b[39m\u001b[38;5;124mVIDEO_DATASET\u001b[39m\u001b[38;5;124m\"\u001b[39m\n",
      "\u001b[0;31mNameError\u001b[0m: name 'config' is not defined"
     ]
    }
   ],
   "source": [
    "import numpy as np\n",
    "import pyslam\n",
    "\n",
    "def run_slam(video_path: str, calib_path: str) -> np.ndarray:\n",
    "    \"\"\"\n",
    "    Run pySLAM on a video and return a 3D point cloud as a NumPy array.\n",
    "    (No visualization, no Open3D)\n",
    "    \"\"\"\n",
    "    cfg = config.Config(\"config.yaml\")\n",
    "\n",
    "    # --- configure dataset ---\n",
    "    cfg[\"DATASET\"][\"type\"] = \"VIDEO_DATASET\"\n",
    "    cfg[\"DATASET\"][\"VIDEO_DATASET\"][\"path\"] = video_path\n",
    "    cfg[\"DATASET\"][\"VIDEO_DATASET\"][\"camera_settings\"] = calib_path\n",
    "\n",
    "    # --- enable dense reconstruction ---\n",
    "    cfg[\"GLOBAL_PARAMETERS\"][\"kUseVolumetricIntegration\"] = True\n",
    "    cfg[\"GLOBAL_PARAMETERS\"][\"kVolumetricIntegrationType\"] = \"TSDF\"\n",
    "    cfg[\"GLOBAL_PARAMETERS\"][\"kUseDepthEstimatorInFrontEnd\"] = True\n",
    "\n",
    "    # --- run SLAM ---\n",
    "    slam_system = slam.SLAM(cfg)\n",
    "    slam_system.run()\n",
    "\n",
    "    # --- get point cloud (Nx3 numpy array) ---\n",
    "    dense_integrator = slam_system.get_dense_integrator()\n",
    "    points = dense_integrator.get_points_numpy()  # suppose it returns np.ndarray\n",
    "    return points\n",
    "\n",
    "\n",
    "def compute_scene_size(points: np.ndarray):\n",
    "    \"\"\"\n",
    "    Compute simple bounding box dimensions (length, width, height)\n",
    "    from a NumPy point cloud array of shape (N, 3).\n",
    "    \"\"\"\n",
    "    if points is None or len(points) == 0:\n",
    "        raise ValueError(\"No points reconstructed from SLAM.\")\n",
    "\n",
    "    # Remove NaNs or infs\n",
    "    valid = np.isfinite(points).all(axis=1)\n",
    "    points = points[valid]\n",
    "\n",
    "    # Compute min/max per axis\n",
    "    mins = np.min(points, axis=0)\n",
    "    maxs = np.max(points, axis=0)\n",
    "\n",
    "    dims = maxs - mins  # [dx, dy, dz]\n",
    "    return dims, mins, maxs\n",
    "\n",
    "\n",
    "def scale_to_real_world(dims, known_real_length=None, known_axis=0):\n",
    "    \"\"\"\n",
    "    Optional: rescale dimensions to meters if one known real-world length is given.\n",
    "    known_axis = 0 (x), 1 (y), or 2 (z)\n",
    "    \"\"\"\n",
    "    if known_real_length is None:\n",
    "        return dims, 1.0\n",
    "    scale = known_real_length / dims[known_axis]\n",
    "    return dims * scale, scale\n",
    "\n",
    "\n",
    "def main():\n",
    "    video_path = \"input_scene.mp4\"\n",
    "    calib_path = \"camera.yaml\"  # your calibration file\n",
    "\n",
    "    print(\"Running SLAM... (this can take a while)\")\n",
    "    points = run_slam(video_path, calib_path)\n",
    "\n",
    "    print(f\"Reconstructed {len(points)} 3D points.\")\n",
    "    dims, mins, maxs = compute_scene_size(points)\n",
    "\n",
    "    # Optional: if you know a real object’s size to fix scale\n",
    "    # e.g., wall width known = 3.2 meters\n",
    "    dims_m, scale = scale_to_real_world(dims, known_real_length=3.2, known_axis=0)\n",
    "\n",
    "    print(\"Bounding box (in SLAM units):\", dims)\n",
    "    print(f\"Scale factor: {scale:.3f}\")\n",
    "    print(\"Estimated scene size (meters):\")\n",
    "    print(f\"  Length (x): {dims_m[0]:.2f} m\")\n",
    "    print(f\"  Width  (y): {dims_m[1]:.2f} m\")\n",
    "    print(f\"  Height (z): {dims_m[2]:.2f} m\")\n",
    "\n",
    "\n",
    "if __name__ == \"__main__\":\n",
    "    main()\n"
   ]
  },
  {
   "cell_type": "code",
   "execution_count": null,
   "id": "ca38e3ad",
   "metadata": {},
   "outputs": [],
   "source": []
  },
  {
   "cell_type": "code",
   "execution_count": 10,
   "id": "a6b7febf",
   "metadata": {},
   "outputs": [
    {
     "ename": "ModuleNotFoundError",
     "evalue": "No module named 'open3d'",
     "output_type": "error",
     "traceback": [
      "\u001b[0;31m---------------------------------------------------------------------------\u001b[0m",
      "\u001b[0;31mModuleNotFoundError\u001b[0m                       Traceback (most recent call last)",
      "Cell \u001b[0;32mIn[10], line 1\u001b[0m\n\u001b[0;32m----> 1\u001b[0m \u001b[38;5;28;01mimport\u001b[39;00m \u001b[38;5;21;01mopen3d\u001b[39;00m \u001b[38;5;28;01mas\u001b[39;00m \u001b[38;5;21;01mo3d\u001b[39;00m\n\u001b[1;32m      3\u001b[0m \u001b[38;5;66;03m# Load or capture point cloud\u001b[39;00m\n\u001b[1;32m      4\u001b[0m pcd \u001b[38;5;241m=\u001b[39m o3d\u001b[38;5;241m.\u001b[39mio\u001b[38;5;241m.\u001b[39mread_point_cloud(\u001b[38;5;124m\"\u001b[39m\u001b[38;5;124mroom_scan.ply\u001b[39m\u001b[38;5;124m\"\u001b[39m)\n",
      "\u001b[0;31mModuleNotFoundError\u001b[0m: No module named 'open3d'"
     ]
    }
   ],
   "source": [
    "import open3d as o3d\n",
    "\n",
    "# Load or capture point cloud\n",
    "pcd = o3d.io.read_point_cloud(\"room_scan.ply\")\n",
    "\n",
    "# Visualize\n",
    "o3d.visualization.draw_geometries([pcd])\n",
    "\n",
    "# Measure distance between points\n",
    "points = np.asarray(pcd.points)\n",
    "dist = np.linalg.norm(points[0] - points[1])\n",
    "print(f\"Distance: {dist:.2f} m\")"
   ]
  },
  {
   "cell_type": "code",
   "execution_count": 11,
   "id": "cb7a7f17",
   "metadata": {},
   "outputs": [
    {
     "name": "stdout",
     "output_type": "stream",
     "text": [
      "\u001b[31mERROR: Could not find a version that satisfies the requirement open3d (from versions: none)\u001b[0m\u001b[31m\n",
      "\u001b[0m\u001b[31mERROR: No matching distribution found for open3d\u001b[0m\u001b[31m\n",
      "\u001b[0m"
     ]
    }
   ],
   "source": [
    "!pip install open3d"
   ]
  },
  {
   "cell_type": "code",
   "execution_count": null,
   "id": "95fb9ba4",
   "metadata": {},
   "outputs": [],
   "source": []
  }
 ],
 "metadata": {
  "kernelspec": {
   "display_name": "Python 3",
   "language": "python",
   "name": "python3"
  },
  "language_info": {
   "codemirror_mode": {
    "name": "ipython",
    "version": 3
   },
   "file_extension": ".py",
   "mimetype": "text/x-python",
   "name": "python",
   "nbconvert_exporter": "python",
   "pygments_lexer": "ipython3",
   "version": "3.13.1"
  }
 },
 "nbformat": 4,
 "nbformat_minor": 5
}
